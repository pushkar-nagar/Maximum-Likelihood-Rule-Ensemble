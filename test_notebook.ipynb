{
 "cells": [
  {
   "cell_type": "code",
   "execution_count": 1,
   "metadata": {
    "scrolled": true
   },
   "outputs": [
    {
     "data": {
      "text/plain": [
       "<module 'MLRules' from 'C:\\\\Users\\\\pushkarn\\\\Documents\\\\personal\\\\personal_projects\\\\Maximum-likelihood-rule-ensemble\\\\MLRules.py'>"
      ]
     },
     "execution_count": 1,
     "metadata": {},
     "output_type": "execute_result"
    }
   ],
   "source": [
    "import numpy as np\n",
    "import pandas as pd\n",
    "import os\n",
    "# from MLRules_ import MLRules\n",
    "import importlib\n",
    "import MLRules\n",
    "importlib.reload(MLRules)"
   ]
  },
  {
   "cell_type": "code",
   "execution_count": 2,
   "metadata": {},
   "outputs": [],
   "source": [
    "data = \"data path\"\n",
    "df = pd.read_csv(r\"C:\\Users\\pushkarn\\Documents\\personal\\personal_projects\\Maximum-likelihood-rule-ensemble\\data\\haberman_process.csv\")"
   ]
  },
  {
   "cell_type": "code",
   "execution_count": 3,
   "metadata": {},
   "outputs": [],
   "source": [
    "df.head()\n",
    "msk = np.random.rand(len(df)) < 0.8\n",
    "train = df\n",
    "test = df[~msk]"
   ]
  },
  {
   "cell_type": "code",
   "execution_count": 4,
   "metadata": {},
   "outputs": [],
   "source": [
    "train = train.rename(columns={\"labels\": \"label\"})\n",
    "test = test.rename(columns={\"labels\": \"label\"})\n",
    "labels_transform = {\"class_1\":np.int(0),\"class_2\":np.int(1)}\n",
    "train = train.replace({\"label\":labels_transform}).reset_index(drop = 1)\n",
    "test = test.replace({\"label\":labels_transform}).reset_index(drop = 1)"
   ]
  },
  {
   "cell_type": "code",
   "execution_count": 5,
   "metadata": {},
   "outputs": [],
   "source": [
    "train = train.infer_objects()\n",
    "test = test.infer_objects()"
   ]
  },
  {
   "cell_type": "code",
   "execution_count": 6,
   "metadata": {},
   "outputs": [
    {
     "data": {
      "text/plain": [
       "age           int64\n",
       "op_year       int64\n",
       "axil_nodes    int64\n",
       "label         int64\n",
       "dtype: object"
      ]
     },
     "execution_count": 6,
     "metadata": {},
     "output_type": "execute_result"
    }
   ],
   "source": [
    "train.dtypes"
   ]
  },
  {
   "cell_type": "code",
   "execution_count": 7,
   "metadata": {},
   "outputs": [
    {
     "data": {
      "text/plain": [
       "306"
      ]
     },
     "execution_count": 7,
     "metadata": {},
     "output_type": "execute_result"
    }
   ],
   "source": [
    "len(train)"
   ]
  },
  {
   "cell_type": "code",
   "execution_count": 12,
   "metadata": {
    "scrolled": true
   },
   "outputs": [
    {
     "name": "stdout",
     "output_type": "stream",
     "text": [
      "Rule Number  0\n",
      "while loop running for elementry expression creation\n",
      "while loop running for elementry expression creation\n",
      "while loop running for elementry expression creation\n",
      "[ 0.16993854 -0.16993854] <class 'numpy.ndarray'>\n",
      "Rule Number  1\n",
      "while loop running for elementry expression creation\n",
      "while loop running for elementry expression creation\n",
      "while loop running for elementry expression creation\n",
      "while loop running for elementry expression creation\n",
      "[ 0.17113136 -0.17113136] <class 'numpy.ndarray'>\n",
      "Rule Number  2\n",
      "while loop running for elementry expression creation\n",
      "while loop running for elementry expression creation\n",
      "[ 0.13521127 -0.13521127] <class 'numpy.ndarray'>\n"
     ]
    }
   ],
   "source": [
    "classifier = MLRules.MLRules(traindf = train, testdf = test, nrules = 3)\n",
    "rules = classifier.buildClassifier()"
   ]
  },
  {
   "cell_type": "code",
   "execution_count": null,
   "metadata": {},
   "outputs": [],
   "source": []
  }
 ],
 "metadata": {
  "kernelspec": {
   "display_name": "Python 3",
   "language": "python",
   "name": "python3"
  },
  "language_info": {
   "codemirror_mode": {
    "name": "ipython",
    "version": 3
   },
   "file_extension": ".py",
   "mimetype": "text/x-python",
   "name": "python",
   "nbconvert_exporter": "python",
   "pygments_lexer": "ipython3",
   "version": "3.6.8"
  }
 },
 "nbformat": 4,
 "nbformat_minor": 4
}
